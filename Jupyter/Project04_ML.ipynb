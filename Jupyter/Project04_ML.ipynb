{
  "cells": [
    {
      "cell_type": "code",
      "execution_count": null,
      "metadata": {
        "colab": {
          "base_uri": "https://localhost:8080/"
        },
        "id": "VPeN65fXEaAY",
        "outputId": "b039a1f0-0439-4564-b6c1-266a73559bd4"
      },
      "outputs": [
        {
          "output_type": "stream",
          "name": "stdout",
          "text": [
            "Looking in indexes: https://pypi.org/simple, https://us-python.pkg.dev/colab-wheels/public/simple/\n",
            "Collecting keras_tuner\n",
            "  Downloading keras_tuner-1.3.5-py3-none-any.whl (176 kB)\n",
            "\u001b[2K     \u001b[90m━━━━━━━━━━━━━━━━━━━━━━━━━━━━━━━━━━━━━━━\u001b[0m \u001b[32m176.1/176.1 kB\u001b[0m \u001b[31m4.6 MB/s\u001b[0m eta \u001b[36m0:00:00\u001b[0m\n",
            "\u001b[?25hRequirement already satisfied: packaging in /usr/local/lib/python3.10/dist-packages (from keras_tuner) (23.1)\n",
            "Requirement already satisfied: requests in /usr/local/lib/python3.10/dist-packages (from keras_tuner) (2.27.1)\n",
            "Collecting kt-legacy (from keras_tuner)\n",
            "  Downloading kt_legacy-1.0.5-py3-none-any.whl (9.6 kB)\n",
            "Requirement already satisfied: urllib3<1.27,>=1.21.1 in /usr/local/lib/python3.10/dist-packages (from requests->keras_tuner) (1.26.15)\n",
            "Requirement already satisfied: certifi>=2017.4.17 in /usr/local/lib/python3.10/dist-packages (from requests->keras_tuner) (2022.12.7)\n",
            "Requirement already satisfied: charset-normalizer~=2.0.0 in /usr/local/lib/python3.10/dist-packages (from requests->keras_tuner) (2.0.12)\n",
            "Requirement already satisfied: idna<4,>=2.5 in /usr/local/lib/python3.10/dist-packages (from requests->keras_tuner) (3.4)\n",
            "Installing collected packages: kt-legacy, keras_tuner\n",
            "Successfully installed keras_tuner-1.3.5 kt-legacy-1.0.5\n",
            "Looking in indexes: https://pypi.org/simple, https://us-python.pkg.dev/colab-wheels/public/simple/\n",
            "Collecting boto3\n",
            "  Downloading boto3-1.26.152-py3-none-any.whl (135 kB)\n",
            "\u001b[2K     \u001b[90m━━━━━━━━━━━━━━━━━━━━━━━━━━━━━━━━━━━━━━━\u001b[0m \u001b[32m135.6/135.6 kB\u001b[0m \u001b[31m2.6 MB/s\u001b[0m eta \u001b[36m0:00:00\u001b[0m\n",
            "\u001b[?25hCollecting botocore<1.30.0,>=1.29.152 (from boto3)\n",
            "  Downloading botocore-1.29.152-py3-none-any.whl (10.9 MB)\n",
            "\u001b[2K     \u001b[90m━━━━━━━━━━━━━━━━━━━━━━━━━━━━━━━━━━━━━━━━\u001b[0m \u001b[32m10.9/10.9 MB\u001b[0m \u001b[31m20.7 MB/s\u001b[0m eta \u001b[36m0:00:00\u001b[0m\n",
            "\u001b[?25hCollecting jmespath<2.0.0,>=0.7.1 (from boto3)\n",
            "  Downloading jmespath-1.0.1-py3-none-any.whl (20 kB)\n",
            "Collecting s3transfer<0.7.0,>=0.6.0 (from boto3)\n",
            "  Downloading s3transfer-0.6.1-py3-none-any.whl (79 kB)\n",
            "\u001b[2K     \u001b[90m━━━━━━━━━━━━━━━━━━━━━━━━━━━━━━━━━━━━━━━━\u001b[0m \u001b[32m79.8/79.8 kB\u001b[0m \u001b[31m6.9 MB/s\u001b[0m eta \u001b[36m0:00:00\u001b[0m\n",
            "\u001b[?25hRequirement already satisfied: python-dateutil<3.0.0,>=2.1 in /usr/local/lib/python3.10/dist-packages (from botocore<1.30.0,>=1.29.152->boto3) (2.8.2)\n",
            "Requirement already satisfied: urllib3<1.27,>=1.25.4 in /usr/local/lib/python3.10/dist-packages (from botocore<1.30.0,>=1.29.152->boto3) (1.26.15)\n",
            "Requirement already satisfied: six>=1.5 in /usr/local/lib/python3.10/dist-packages (from python-dateutil<3.0.0,>=2.1->botocore<1.30.0,>=1.29.152->boto3) (1.16.0)\n",
            "Installing collected packages: jmespath, botocore, s3transfer, boto3\n",
            "Successfully installed boto3-1.26.152 botocore-1.29.152 jmespath-1.0.1 s3transfer-0.6.1\n"
          ]
        }
      ],
      "source": [
        "!pip install keras_tuner\n",
        "!pip install boto3\n",
        "# !pip install --upgrade sqlalchemy\n",
        "# !pip install --upgrade pandas\n",
        "# !pip install sklearn-extensions\n",
        "# !pip install flask-ngrok"
      ]
    },
    {
      "cell_type": "code",
      "execution_count": null,
      "metadata": {
        "colab": {
          "base_uri": "https://localhost:8080/"
        },
        "id": "4ArNTef72ece",
        "outputId": "cdfa08dd-481d-4b22-9808-e9e596be51f9"
      },
      "outputs": [
        {
          "output_type": "stream",
          "name": "stdout",
          "text": [
            "Mounted at /content/drive\n"
          ]
        }
      ],
      "source": [
        "from google.colab import drive\n",
        "import csv\n",
        "\n",
        "rds_host = \"\"\n",
        "rds_port = \"\"\n",
        "rds_username = \"\"\n",
        "rds_password = \"\"\n",
        "rds_database = \"\"\n",
        "\n",
        "drive.mount('/content/drive')\n",
        "\n",
        "with open('/content/drive/MyDrive/UofT/Data-Analytics-Boot-Camp/Project04-Team01/Keys/rds_Keys.csv') as file:\n",
        "  csvreader = csv.reader(file)\n",
        "  for row in csvreader:\n",
        "    rds_host = row[0]\n",
        "    rds_port = row[1]\n",
        "    rds_username = row[2]\n",
        "    rds_password = row[3]\n",
        "    rds_database = row[4]\n",
        "\n",
        "drive.flush_and_unmount()"
      ]
    },
    {
      "cell_type": "code",
      "execution_count": null,
      "metadata": {
        "id": "xr2QG6NA1wAH"
      },
      "outputs": [],
      "source": [
        "import pandas as pd\n",
        "from sqlalchemy import create_engine\n",
        "from sqlalchemy import text\n",
        "\n",
        "engine = create_engine(f'postgresql://{rds_username}:{rds_password}@{rds_host}:{rds_port}/{rds_database}')\n",
        "\n",
        "with engine.begin() as connection:\n",
        "  data = pd.read_sql(text('SELECT * FROM heart_disease'), con=connection)\n",
        "  connection.close()\n",
        "\n",
        "engine.dispose()\n",
        "del engine"
      ]
    },
    {
      "cell_type": "code",
      "execution_count": null,
      "metadata": {
        "id": "HbELGoGmIILF"
      },
      "outputs": [],
      "source": [
        "feature_columns = [\"age\", \"sex\", \"cp\", \"trestbps\", \"chol\", \"fbs\", \"restecg\", \"thalach\", \"exang\", \"oldpeak\", \"slope\", \"ca\", \"thal\"]\n",
        "target_columns = [\"target\"]\n",
        "numerical_columns = ['age', 'trestbps', 'chol', 'thalach', 'oldpeak']\n",
        "categorical_columns = [x for x in feature_columns if x not in numerical_columns]"
      ]
    },
    {
      "cell_type": "code",
      "source": [
        "data = data.loc[:, feature_columns + target_columns]"
      ],
      "metadata": {
        "id": "KcyMSK61Z50A"
      },
      "execution_count": null,
      "outputs": []
    },
    {
      "cell_type": "code",
      "execution_count": null,
      "metadata": {
        "colab": {
          "base_uri": "https://localhost:8080/",
          "height": 419
        },
        "id": "kM7kVK3R3rhO",
        "outputId": "c008bde3-66d2-4987-b2e9-3fa2d0a57903"
      },
      "outputs": [
        {
          "output_type": "execute_result",
          "data": {
            "text/plain": [
              "          age       sex        cp  trestbps      chol       fbs   restecg  \\\n",
              "0    0.936181  0.691095 -2.240629  0.750380 -0.276443  2.430427  1.010199   \n",
              "1    1.378929  0.691095  0.873880  1.596266  0.744555 -0.411450  1.010199   \n",
              "2    1.378929  0.691095  0.873880 -0.659431 -0.353500 -0.411450  1.010199   \n",
              "3   -1.941680  0.691095 -0.164289 -0.095506  0.051047 -0.411450 -1.003419   \n",
              "4   -1.498933 -1.446980 -1.202459 -0.095506 -0.835103 -0.411450  1.010199   \n",
              "..        ...       ...       ...       ...       ...       ...       ...   \n",
              "292  0.272059 -1.446980  0.873880  0.468418 -0.122330 -0.411450 -1.003419   \n",
              "293 -1.056185  0.691095 -2.240629 -1.223355  0.320744 -0.411450 -1.003419   \n",
              "294  1.489615  0.691095  0.873880  0.693988 -1.047008  2.430427 -1.003419   \n",
              "295  0.272059  0.691095  0.873880 -0.095506 -2.241384 -0.411450 -1.003419   \n",
              "296  0.272059 -1.446980 -1.202459 -0.095506 -0.218651 -0.411450  1.010199   \n",
              "\n",
              "      thalach     exang   oldpeak     slope        ca      thal  target  \n",
              "0    0.017494 -0.696419  1.068965  2.264145 -0.721976  0.655877       0  \n",
              "1   -1.816334  1.435916  0.381773  0.643781  2.478425 -0.894220       1  \n",
              "2   -0.899420  1.435916  1.326662  0.643781  1.411625  1.172577       1  \n",
              "3    1.633010 -0.696419  2.099753  2.264145 -0.721976 -0.894220       0  \n",
              "4    0.978071 -0.696419  0.295874 -0.976583 -0.721976 -0.894220       0  \n",
              "..        ...       ...       ...       ...       ...       ...     ...  \n",
              "292 -1.161395  1.435916 -0.734914  0.643781 -0.721976  1.172577       1  \n",
              "293 -0.768432 -0.696419  0.124076  0.643781 -0.721976  1.172577       1  \n",
              "294 -0.375469 -0.696419  2.013854  0.643781  1.411625  1.172577       1  \n",
              "295 -1.510696  1.435916  0.124076  0.643781  0.344824  1.172577       1  \n",
              "296  1.065396 -0.696419 -0.906712  0.643781  0.344824 -0.894220       1  \n",
              "\n",
              "[297 rows x 14 columns]"
            ],
            "text/html": [
              "\n",
              "  <div id=\"df-6a2f4363-762d-429f-b5fd-9da241d7e868\">\n",
              "    <div class=\"colab-df-container\">\n",
              "      <div>\n",
              "<style scoped>\n",
              "    .dataframe tbody tr th:only-of-type {\n",
              "        vertical-align: middle;\n",
              "    }\n",
              "\n",
              "    .dataframe tbody tr th {\n",
              "        vertical-align: top;\n",
              "    }\n",
              "\n",
              "    .dataframe thead th {\n",
              "        text-align: right;\n",
              "    }\n",
              "</style>\n",
              "<table border=\"1\" class=\"dataframe\">\n",
              "  <thead>\n",
              "    <tr style=\"text-align: right;\">\n",
              "      <th></th>\n",
              "      <th>age</th>\n",
              "      <th>sex</th>\n",
              "      <th>cp</th>\n",
              "      <th>trestbps</th>\n",
              "      <th>chol</th>\n",
              "      <th>fbs</th>\n",
              "      <th>restecg</th>\n",
              "      <th>thalach</th>\n",
              "      <th>exang</th>\n",
              "      <th>oldpeak</th>\n",
              "      <th>slope</th>\n",
              "      <th>ca</th>\n",
              "      <th>thal</th>\n",
              "      <th>target</th>\n",
              "    </tr>\n",
              "  </thead>\n",
              "  <tbody>\n",
              "    <tr>\n",
              "      <th>0</th>\n",
              "      <td>0.936181</td>\n",
              "      <td>0.691095</td>\n",
              "      <td>-2.240629</td>\n",
              "      <td>0.750380</td>\n",
              "      <td>-0.276443</td>\n",
              "      <td>2.430427</td>\n",
              "      <td>1.010199</td>\n",
              "      <td>0.017494</td>\n",
              "      <td>-0.696419</td>\n",
              "      <td>1.068965</td>\n",
              "      <td>2.264145</td>\n",
              "      <td>-0.721976</td>\n",
              "      <td>0.655877</td>\n",
              "      <td>0</td>\n",
              "    </tr>\n",
              "    <tr>\n",
              "      <th>1</th>\n",
              "      <td>1.378929</td>\n",
              "      <td>0.691095</td>\n",
              "      <td>0.873880</td>\n",
              "      <td>1.596266</td>\n",
              "      <td>0.744555</td>\n",
              "      <td>-0.411450</td>\n",
              "      <td>1.010199</td>\n",
              "      <td>-1.816334</td>\n",
              "      <td>1.435916</td>\n",
              "      <td>0.381773</td>\n",
              "      <td>0.643781</td>\n",
              "      <td>2.478425</td>\n",
              "      <td>-0.894220</td>\n",
              "      <td>1</td>\n",
              "    </tr>\n",
              "    <tr>\n",
              "      <th>2</th>\n",
              "      <td>1.378929</td>\n",
              "      <td>0.691095</td>\n",
              "      <td>0.873880</td>\n",
              "      <td>-0.659431</td>\n",
              "      <td>-0.353500</td>\n",
              "      <td>-0.411450</td>\n",
              "      <td>1.010199</td>\n",
              "      <td>-0.899420</td>\n",
              "      <td>1.435916</td>\n",
              "      <td>1.326662</td>\n",
              "      <td>0.643781</td>\n",
              "      <td>1.411625</td>\n",
              "      <td>1.172577</td>\n",
              "      <td>1</td>\n",
              "    </tr>\n",
              "    <tr>\n",
              "      <th>3</th>\n",
              "      <td>-1.941680</td>\n",
              "      <td>0.691095</td>\n",
              "      <td>-0.164289</td>\n",
              "      <td>-0.095506</td>\n",
              "      <td>0.051047</td>\n",
              "      <td>-0.411450</td>\n",
              "      <td>-1.003419</td>\n",
              "      <td>1.633010</td>\n",
              "      <td>-0.696419</td>\n",
              "      <td>2.099753</td>\n",
              "      <td>2.264145</td>\n",
              "      <td>-0.721976</td>\n",
              "      <td>-0.894220</td>\n",
              "      <td>0</td>\n",
              "    </tr>\n",
              "    <tr>\n",
              "      <th>4</th>\n",
              "      <td>-1.498933</td>\n",
              "      <td>-1.446980</td>\n",
              "      <td>-1.202459</td>\n",
              "      <td>-0.095506</td>\n",
              "      <td>-0.835103</td>\n",
              "      <td>-0.411450</td>\n",
              "      <td>1.010199</td>\n",
              "      <td>0.978071</td>\n",
              "      <td>-0.696419</td>\n",
              "      <td>0.295874</td>\n",
              "      <td>-0.976583</td>\n",
              "      <td>-0.721976</td>\n",
              "      <td>-0.894220</td>\n",
              "      <td>0</td>\n",
              "    </tr>\n",
              "    <tr>\n",
              "      <th>...</th>\n",
              "      <td>...</td>\n",
              "      <td>...</td>\n",
              "      <td>...</td>\n",
              "      <td>...</td>\n",
              "      <td>...</td>\n",
              "      <td>...</td>\n",
              "      <td>...</td>\n",
              "      <td>...</td>\n",
              "      <td>...</td>\n",
              "      <td>...</td>\n",
              "      <td>...</td>\n",
              "      <td>...</td>\n",
              "      <td>...</td>\n",
              "      <td>...</td>\n",
              "    </tr>\n",
              "    <tr>\n",
              "      <th>292</th>\n",
              "      <td>0.272059</td>\n",
              "      <td>-1.446980</td>\n",
              "      <td>0.873880</td>\n",
              "      <td>0.468418</td>\n",
              "      <td>-0.122330</td>\n",
              "      <td>-0.411450</td>\n",
              "      <td>-1.003419</td>\n",
              "      <td>-1.161395</td>\n",
              "      <td>1.435916</td>\n",
              "      <td>-0.734914</td>\n",
              "      <td>0.643781</td>\n",
              "      <td>-0.721976</td>\n",
              "      <td>1.172577</td>\n",
              "      <td>1</td>\n",
              "    </tr>\n",
              "    <tr>\n",
              "      <th>293</th>\n",
              "      <td>-1.056185</td>\n",
              "      <td>0.691095</td>\n",
              "      <td>-2.240629</td>\n",
              "      <td>-1.223355</td>\n",
              "      <td>0.320744</td>\n",
              "      <td>-0.411450</td>\n",
              "      <td>-1.003419</td>\n",
              "      <td>-0.768432</td>\n",
              "      <td>-0.696419</td>\n",
              "      <td>0.124076</td>\n",
              "      <td>0.643781</td>\n",
              "      <td>-0.721976</td>\n",
              "      <td>1.172577</td>\n",
              "      <td>1</td>\n",
              "    </tr>\n",
              "    <tr>\n",
              "      <th>294</th>\n",
              "      <td>1.489615</td>\n",
              "      <td>0.691095</td>\n",
              "      <td>0.873880</td>\n",
              "      <td>0.693988</td>\n",
              "      <td>-1.047008</td>\n",
              "      <td>2.430427</td>\n",
              "      <td>-1.003419</td>\n",
              "      <td>-0.375469</td>\n",
              "      <td>-0.696419</td>\n",
              "      <td>2.013854</td>\n",
              "      <td>0.643781</td>\n",
              "      <td>1.411625</td>\n",
              "      <td>1.172577</td>\n",
              "      <td>1</td>\n",
              "    </tr>\n",
              "    <tr>\n",
              "      <th>295</th>\n",
              "      <td>0.272059</td>\n",
              "      <td>0.691095</td>\n",
              "      <td>0.873880</td>\n",
              "      <td>-0.095506</td>\n",
              "      <td>-2.241384</td>\n",
              "      <td>-0.411450</td>\n",
              "      <td>-1.003419</td>\n",
              "      <td>-1.510696</td>\n",
              "      <td>1.435916</td>\n",
              "      <td>0.124076</td>\n",
              "      <td>0.643781</td>\n",
              "      <td>0.344824</td>\n",
              "      <td>1.172577</td>\n",
              "      <td>1</td>\n",
              "    </tr>\n",
              "    <tr>\n",
              "      <th>296</th>\n",
              "      <td>0.272059</td>\n",
              "      <td>-1.446980</td>\n",
              "      <td>-1.202459</td>\n",
              "      <td>-0.095506</td>\n",
              "      <td>-0.218651</td>\n",
              "      <td>-0.411450</td>\n",
              "      <td>1.010199</td>\n",
              "      <td>1.065396</td>\n",
              "      <td>-0.696419</td>\n",
              "      <td>-0.906712</td>\n",
              "      <td>0.643781</td>\n",
              "      <td>0.344824</td>\n",
              "      <td>-0.894220</td>\n",
              "      <td>1</td>\n",
              "    </tr>\n",
              "  </tbody>\n",
              "</table>\n",
              "<p>297 rows × 14 columns</p>\n",
              "</div>\n",
              "      <button class=\"colab-df-convert\" onclick=\"convertToInteractive('df-6a2f4363-762d-429f-b5fd-9da241d7e868')\"\n",
              "              title=\"Convert this dataframe to an interactive table.\"\n",
              "              style=\"display:none;\">\n",
              "        \n",
              "  <svg xmlns=\"http://www.w3.org/2000/svg\" height=\"24px\"viewBox=\"0 0 24 24\"\n",
              "       width=\"24px\">\n",
              "    <path d=\"M0 0h24v24H0V0z\" fill=\"none\"/>\n",
              "    <path d=\"M18.56 5.44l.94 2.06.94-2.06 2.06-.94-2.06-.94-.94-2.06-.94 2.06-2.06.94zm-11 1L8.5 8.5l.94-2.06 2.06-.94-2.06-.94L8.5 2.5l-.94 2.06-2.06.94zm10 10l.94 2.06.94-2.06 2.06-.94-2.06-.94-.94-2.06-.94 2.06-2.06.94z\"/><path d=\"M17.41 7.96l-1.37-1.37c-.4-.4-.92-.59-1.43-.59-.52 0-1.04.2-1.43.59L10.3 9.45l-7.72 7.72c-.78.78-.78 2.05 0 2.83L4 21.41c.39.39.9.59 1.41.59.51 0 1.02-.2 1.41-.59l7.78-7.78 2.81-2.81c.8-.78.8-2.07 0-2.86zM5.41 20L4 18.59l7.72-7.72 1.47 1.35L5.41 20z\"/>\n",
              "  </svg>\n",
              "      </button>\n",
              "      \n",
              "  <style>\n",
              "    .colab-df-container {\n",
              "      display:flex;\n",
              "      flex-wrap:wrap;\n",
              "      gap: 12px;\n",
              "    }\n",
              "\n",
              "    .colab-df-convert {\n",
              "      background-color: #E8F0FE;\n",
              "      border: none;\n",
              "      border-radius: 50%;\n",
              "      cursor: pointer;\n",
              "      display: none;\n",
              "      fill: #1967D2;\n",
              "      height: 32px;\n",
              "      padding: 0 0 0 0;\n",
              "      width: 32px;\n",
              "    }\n",
              "\n",
              "    .colab-df-convert:hover {\n",
              "      background-color: #E2EBFA;\n",
              "      box-shadow: 0px 1px 2px rgba(60, 64, 67, 0.3), 0px 1px 3px 1px rgba(60, 64, 67, 0.15);\n",
              "      fill: #174EA6;\n",
              "    }\n",
              "\n",
              "    [theme=dark] .colab-df-convert {\n",
              "      background-color: #3B4455;\n",
              "      fill: #D2E3FC;\n",
              "    }\n",
              "\n",
              "    [theme=dark] .colab-df-convert:hover {\n",
              "      background-color: #434B5C;\n",
              "      box-shadow: 0px 1px 3px 1px rgba(0, 0, 0, 0.15);\n",
              "      filter: drop-shadow(0px 1px 2px rgba(0, 0, 0, 0.3));\n",
              "      fill: #FFFFFF;\n",
              "    }\n",
              "  </style>\n",
              "\n",
              "      <script>\n",
              "        const buttonEl =\n",
              "          document.querySelector('#df-6a2f4363-762d-429f-b5fd-9da241d7e868 button.colab-df-convert');\n",
              "        buttonEl.style.display =\n",
              "          google.colab.kernel.accessAllowed ? 'block' : 'none';\n",
              "\n",
              "        async function convertToInteractive(key) {\n",
              "          const element = document.querySelector('#df-6a2f4363-762d-429f-b5fd-9da241d7e868');\n",
              "          const dataTable =\n",
              "            await google.colab.kernel.invokeFunction('convertToInteractive',\n",
              "                                                     [key], {});\n",
              "          if (!dataTable) return;\n",
              "\n",
              "          const docLinkHtml = 'Like what you see? Visit the ' +\n",
              "            '<a target=\"_blank\" href=https://colab.research.google.com/notebooks/data_table.ipynb>data table notebook</a>'\n",
              "            + ' to learn more about interactive tables.';\n",
              "          element.innerHTML = '';\n",
              "          dataTable['output_type'] = 'display_data';\n",
              "          await google.colab.output.renderOutput(dataTable, element);\n",
              "          const docLink = document.createElement('div');\n",
              "          docLink.innerHTML = docLinkHtml;\n",
              "          element.appendChild(docLink);\n",
              "        }\n",
              "      </script>\n",
              "    </div>\n",
              "  </div>\n",
              "  "
            ]
          },
          "metadata": {},
          "execution_count": 6
        }
      ],
      "source": [
        "from sklearn.preprocessing import StandardScaler\n",
        "import joblib\n",
        "# Scaling the numeric columns\n",
        "scaler = StandardScaler().fit(data[feature_columns])\n",
        "joblib.dump(scaler, \"HeartScaler.sav\")\n",
        "data_scaled = scaler.transform(data[feature_columns])\n",
        "data_scaled_df = pd.DataFrame(data_scaled, columns=feature_columns)\n",
        "data_scaled_df = pd.concat([data_scaled_df, data[target_columns]], axis = 1)\n",
        "data_scaled_df"
      ]
    },
    {
      "cell_type": "code",
      "execution_count": null,
      "metadata": {
        "id": "bv6u9kCH4iix"
      },
      "outputs": [],
      "source": [
        "X = data_scaled_df[feature_columns]\n",
        "y = data_scaled_df[target_columns]"
      ]
    },
    {
      "cell_type": "code",
      "execution_count": null,
      "metadata": {
        "colab": {
          "base_uri": "https://localhost:8080/"
        },
        "id": "qyDeZAaiDPNI",
        "outputId": "529a7c93-6435-4825-cbcb-b630627fdd81"
      },
      "outputs": [
        {
          "output_type": "execute_result",
          "data": {
            "text/plain": [
              "target\n",
              "0         160\n",
              "1         137\n",
              "dtype: int64"
            ]
          },
          "metadata": {},
          "execution_count": 8
        }
      ],
      "source": [
        "data_scaled_df[target_columns].value_counts()"
      ]
    },
    {
      "cell_type": "code",
      "source": [
        "# from imblearn.over_sampling import RandomOverSampler\n",
        "# ros = RandomOverSampler(random_state=1)\n",
        "# X_resampled, y_resampled = ros.fit_resample(X, y)"
      ],
      "metadata": {
        "id": "WzNGcW6j9KW-"
      },
      "execution_count": null,
      "outputs": []
    },
    {
      "cell_type": "code",
      "execution_count": null,
      "metadata": {
        "id": "eg9xR8uIIwJs"
      },
      "outputs": [],
      "source": [
        "# Skip Over Sampling\n",
        "X_resampled = X\n",
        "y_resampled = y\n",
        "input_dim = len(X_resampled.columns)"
      ]
    },
    {
      "cell_type": "code",
      "execution_count": null,
      "metadata": {
        "id": "gIsnI4YC5vkH"
      },
      "outputs": [],
      "source": [
        "from sklearn.model_selection import train_test_split\n",
        "from sklearn.metrics import confusion_matrix\n",
        "from sklearn.metrics import classification_report\n",
        "X_train, X_test, y_train, y_test = train_test_split(X_resampled,\n",
        "                                                    y_resampled,\n",
        "                                                    train_size=0.8,\n",
        "                                                    random_state=12,\n",
        "                                                    stratify=y_resampled)"
      ]
    },
    {
      "cell_type": "markdown",
      "source": [
        "Use \"Logistic Regression\" for supervised learning"
      ],
      "metadata": {
        "id": "jnC9lGCX0Glf"
      }
    },
    {
      "cell_type": "code",
      "execution_count": null,
      "metadata": {
        "id": "7wB4wPMk4bvg"
      },
      "outputs": [],
      "source": [
        "from sklearn.linear_model import LogisticRegression\n",
        "model = LogisticRegression(solver='lbfgs', random_state=1)\n",
        "model.fit(X_train, y_train.values.ravel())\n",
        "predictions = model.predict(X_test)"
      ]
    },
    {
      "cell_type": "code",
      "execution_count": null,
      "metadata": {
        "colab": {
          "base_uri": "https://localhost:8080/"
        },
        "id": "lJra8jIy56UK",
        "outputId": "33a90e91-b246-42be-adab-4f9aa704d9e1"
      },
      "outputs": [
        {
          "output_type": "execute_result",
          "data": {
            "text/plain": [
              "array([[31,  1],\n",
              "       [ 7, 21]])"
            ]
          },
          "metadata": {},
          "execution_count": 13
        }
      ],
      "source": [
        "confusion_matrix(y_test, predictions)"
      ]
    },
    {
      "cell_type": "markdown",
      "source": [
        "Classification report for \"Logistic Regression\""
      ],
      "metadata": {
        "id": "W81hMZRG0Utt"
      }
    },
    {
      "cell_type": "code",
      "execution_count": null,
      "metadata": {
        "colab": {
          "base_uri": "https://localhost:8080/"
        },
        "id": "PHhifKH76eyg",
        "outputId": "e13e3970-cf7b-40c3-ece7-38674b76e592"
      },
      "outputs": [
        {
          "output_type": "stream",
          "name": "stdout",
          "text": [
            "              precision    recall  f1-score   support\n",
            "\n",
            "     Present       0.82      0.97      0.89        32\n",
            "      Absent       0.95      0.75      0.84        28\n",
            "\n",
            "    accuracy                           0.87        60\n",
            "   macro avg       0.89      0.86      0.86        60\n",
            "weighted avg       0.88      0.87      0.86        60\n",
            "\n"
          ]
        }
      ],
      "source": [
        "print(classification_report(y_test, predictions, target_names=[\"Present\", \"Absent\"]))"
      ]
    },
    {
      "cell_type": "markdown",
      "source": [
        "Use \"SVM\" for supervised learning"
      ],
      "metadata": {
        "id": "jMWibPfK0Z3G"
      }
    },
    {
      "cell_type": "code",
      "execution_count": null,
      "metadata": {
        "id": "4xl7EY-S7WG7"
      },
      "outputs": [],
      "source": [
        "from sklearn.svm import SVC\n",
        "model = SVC(kernel='linear')\n",
        "model.fit(X_train, y_train.values.ravel())\n",
        "predictions = model.predict(X_test)"
      ]
    },
    {
      "cell_type": "code",
      "execution_count": null,
      "metadata": {
        "colab": {
          "base_uri": "https://localhost:8080/"
        },
        "id": "-byQ2bM27doD",
        "outputId": "1c1b4ea9-4b4c-42c3-8463-759cd8b917b4"
      },
      "outputs": [
        {
          "output_type": "execute_result",
          "data": {
            "text/plain": [
              "array([[31,  1],\n",
              "       [ 7, 21]])"
            ]
          },
          "metadata": {},
          "execution_count": 16
        }
      ],
      "source": [
        "confusion_matrix(y_test, predictions)"
      ]
    },
    {
      "cell_type": "markdown",
      "source": [
        "Classification report for \"SVM\""
      ],
      "metadata": {
        "id": "9orJSMDH0ain"
      }
    },
    {
      "cell_type": "code",
      "execution_count": null,
      "metadata": {
        "colab": {
          "base_uri": "https://localhost:8080/"
        },
        "id": "l5Ggm_ue7de9",
        "outputId": "4f3b720a-e432-45b3-a6fe-aef82ebe7f80"
      },
      "outputs": [
        {
          "output_type": "stream",
          "name": "stdout",
          "text": [
            "              precision    recall  f1-score   support\n",
            "\n",
            "     Present       0.82      0.97      0.89        32\n",
            "      Absent       0.95      0.75      0.84        28\n",
            "\n",
            "    accuracy                           0.87        60\n",
            "   macro avg       0.89      0.86      0.86        60\n",
            "weighted avg       0.88      0.87      0.86        60\n",
            "\n"
          ]
        }
      ],
      "source": [
        "print(classification_report(y_test, predictions, target_names=[\"Present\", \"Absent\"]))"
      ]
    },
    {
      "cell_type": "markdown",
      "source": [
        "Use \"Random Forest\" for supervised learning"
      ],
      "metadata": {
        "id": "yjHJWWf_0x7X"
      }
    },
    {
      "cell_type": "code",
      "execution_count": null,
      "metadata": {
        "id": "i1xw6SZf7yiH"
      },
      "outputs": [],
      "source": [
        "from sklearn.ensemble import RandomForestClassifier\n",
        "model = RandomForestClassifier(n_estimators=500, random_state=78)\n",
        "model.fit(X_train, y_train.values.ravel())\n",
        "predictions = model.predict(X_test)"
      ]
    },
    {
      "cell_type": "code",
      "execution_count": null,
      "metadata": {
        "colab": {
          "base_uri": "https://localhost:8080/"
        },
        "id": "zmEVbe647ya_",
        "outputId": "484d383f-2a6b-4fd8-ec33-be1315b77d8e"
      },
      "outputs": [
        {
          "output_type": "execute_result",
          "data": {
            "text/plain": [
              "array([[29,  3],\n",
              "       [ 7, 21]])"
            ]
          },
          "metadata": {},
          "execution_count": 19
        }
      ],
      "source": [
        "confusion_matrix(y_test, predictions)"
      ]
    },
    {
      "cell_type": "markdown",
      "source": [
        "Classification report for \"Random Forest\""
      ],
      "metadata": {
        "id": "UYeQcspF0cxX"
      }
    },
    {
      "cell_type": "code",
      "execution_count": null,
      "metadata": {
        "colab": {
          "base_uri": "https://localhost:8080/"
        },
        "id": "03Nb91Gk7yCS",
        "outputId": "5a112319-1244-4b32-a62d-3fcf74713eb6"
      },
      "outputs": [
        {
          "output_type": "stream",
          "name": "stdout",
          "text": [
            "              precision    recall  f1-score   support\n",
            "\n",
            "     Present       0.81      0.91      0.85        32\n",
            "      Absent       0.88      0.75      0.81        28\n",
            "\n",
            "    accuracy                           0.83        60\n",
            "   macro avg       0.84      0.83      0.83        60\n",
            "weighted avg       0.84      0.83      0.83        60\n",
            "\n"
          ]
        }
      ],
      "source": [
        "print(classification_report(y_test, predictions, target_names=[\"Present\", \"Absent\"]))"
      ]
    },
    {
      "cell_type": "markdown",
      "source": [
        "Use \"K Nearest Neighbors\" for supervised learning"
      ],
      "metadata": {
        "id": "vwrDryvR03oG"
      }
    },
    {
      "cell_type": "code",
      "execution_count": null,
      "metadata": {
        "id": "YVgqe_cr8Cut"
      },
      "outputs": [],
      "source": [
        "from sklearn.neighbors import KNeighborsClassifier\n",
        "model = KNeighborsClassifier(n_neighbors=3)\n",
        "model.fit(X_train, y_train.values.ravel())\n",
        "predictions = model.predict(X_test)"
      ]
    },
    {
      "cell_type": "code",
      "execution_count": null,
      "metadata": {
        "colab": {
          "base_uri": "https://localhost:8080/"
        },
        "id": "eZ3JcbpK8In0",
        "outputId": "547e337f-0896-45ab-e925-af4bc73329d2"
      },
      "outputs": [
        {
          "output_type": "execute_result",
          "data": {
            "text/plain": [
              "array([[30,  2],\n",
              "       [ 4, 24]])"
            ]
          },
          "metadata": {},
          "execution_count": 23
        }
      ],
      "source": [
        "confusion_matrix(y_test, predictions)"
      ]
    },
    {
      "cell_type": "markdown",
      "source": [
        "Classification report for \"K Nearest Neighbors\""
      ],
      "metadata": {
        "id": "D8GBEGFV0fJr"
      }
    },
    {
      "cell_type": "code",
      "execution_count": null,
      "metadata": {
        "colab": {
          "base_uri": "https://localhost:8080/"
        },
        "id": "Ar4mRQKq8KHU",
        "outputId": "c85e0e74-8c64-4730-d6ad-be2141eed25a"
      },
      "outputs": [
        {
          "output_type": "stream",
          "name": "stdout",
          "text": [
            "              precision    recall  f1-score   support\n",
            "\n",
            "     Present       0.88      0.94      0.91        32\n",
            "      Absent       0.92      0.86      0.89        28\n",
            "\n",
            "    accuracy                           0.90        60\n",
            "   macro avg       0.90      0.90      0.90        60\n",
            "weighted avg       0.90      0.90      0.90        60\n",
            "\n"
          ]
        }
      ],
      "source": [
        "print(classification_report(y_test, predictions, target_names=[\"Present\", \"Absent\"]))"
      ]
    },
    {
      "cell_type": "code",
      "execution_count": null,
      "metadata": {
        "id": "psyh05xiWpsb"
      },
      "outputs": [],
      "source": [
        "import pickle\n",
        "pickle.dump(model, open(\"heart_model.sav\", 'wb'))"
      ]
    },
    {
      "cell_type": "markdown",
      "source": [
        "Use \"Decision Tree\" for supervised learning"
      ],
      "metadata": {
        "id": "oCQ5h-b008-E"
      }
    },
    {
      "cell_type": "code",
      "execution_count": null,
      "metadata": {
        "id": "0MX3qmQf8aEh"
      },
      "outputs": [],
      "source": [
        "from sklearn import tree\n",
        "model = tree.DecisionTreeClassifier()\n",
        "model.fit(X_train, y_train.values.ravel())\n",
        "predictions = model.predict(X_test)"
      ]
    },
    {
      "cell_type": "code",
      "execution_count": null,
      "metadata": {
        "colab": {
          "base_uri": "https://localhost:8080/"
        },
        "id": "x6aVjhPp8Z9r",
        "outputId": "af9215eb-f5c0-416b-9bca-5614eee5a845"
      },
      "outputs": [
        {
          "output_type": "execute_result",
          "data": {
            "text/plain": [
              "array([[26,  6],\n",
              "       [ 6, 22]])"
            ]
          },
          "metadata": {},
          "execution_count": 26
        }
      ],
      "source": [
        "confusion_matrix(y_test, predictions)"
      ]
    },
    {
      "cell_type": "markdown",
      "source": [
        "Classification report for \"Decision Tree\""
      ],
      "metadata": {
        "id": "c6de2SGt0lIa"
      }
    },
    {
      "cell_type": "code",
      "execution_count": null,
      "metadata": {
        "colab": {
          "base_uri": "https://localhost:8080/"
        },
        "id": "DmTSgtAL8Z3i",
        "outputId": "d58e4531-acb3-458c-86a2-14fc4c4546f0"
      },
      "outputs": [
        {
          "output_type": "stream",
          "name": "stdout",
          "text": [
            "              precision    recall  f1-score   support\n",
            "\n",
            "     Present       0.81      0.81      0.81        32\n",
            "      Absent       0.79      0.79      0.79        28\n",
            "\n",
            "    accuracy                           0.80        60\n",
            "   macro avg       0.80      0.80      0.80        60\n",
            "weighted avg       0.80      0.80      0.80        60\n",
            "\n"
          ]
        }
      ],
      "source": [
        "print(classification_report(y_test, predictions, target_names=[\"Present\", \"Absent\"]))"
      ]
    },
    {
      "cell_type": "markdown",
      "source": [
        "Use \"Neural Networks\" for supervised learning"
      ],
      "metadata": {
        "id": "gp2gnSMw0rGC"
      }
    },
    {
      "cell_type": "code",
      "execution_count": null,
      "metadata": {
        "id": "nY6yprzuEDSB"
      },
      "outputs": [],
      "source": [
        "import tensorflow as tf"
      ]
    },
    {
      "cell_type": "code",
      "execution_count": null,
      "metadata": {
        "id": "HPC62TlcEMRt"
      },
      "outputs": [],
      "source": [
        "def create_model(hp):\n",
        "    nn_model = tf.keras.models.Sequential()\n",
        "\n",
        "    # Allow kerastuner to decide which activation function to use in hidden layers\n",
        "    activation = hp.Choice('activation',['relu','tanh'])\n",
        "\n",
        "    # Allow kerastuner to decide number of neurons in first layer\n",
        "    nn_model.add(tf.keras.layers.Dense(units=hp.Int('first_units',\n",
        "        min_value=20,\n",
        "        max_value=50,\n",
        "        step=5), activation=activation, input_dim=13))\n",
        "\n",
        "    # Allow kerastuner to decide number of hidden layers and neurons in hidden layers\n",
        "    for i in range(hp.Int('num_layers', 1, 3)):\n",
        "        nn_model.add(tf.keras.layers.Dense(units=hp.Int('units_' + str(i),\n",
        "            min_value=20,\n",
        "            max_value=50,\n",
        "            step=5),\n",
        "            activation=activation))\n",
        "\n",
        "    nn_model.add(tf.keras.layers.Dense(units=1, activation=\"sigmoid\"))\n",
        "\n",
        "    # Compile the model\n",
        "    nn_model.compile(loss=\"binary_crossentropy\", optimizer='adam', metrics=[\"accuracy\"])\n",
        "\n",
        "    return nn_model"
      ]
    },
    {
      "cell_type": "markdown",
      "source": [
        "Use Keras tuner to find the best parameters for the neural network model"
      ],
      "metadata": {
        "id": "aWf7reo11FGX"
      }
    },
    {
      "cell_type": "code",
      "execution_count": null,
      "metadata": {
        "id": "5HNGV-RAER94"
      },
      "outputs": [],
      "source": [
        "import keras_tuner as kt\n",
        "\n",
        "tuner = kt.Hyperband(\n",
        "    create_model,\n",
        "    objective=\"val_accuracy\",\n",
        "    max_epochs=50,\n",
        "    overwrite=True,\n",
        "    hyperband_iterations=2)"
      ]
    },
    {
      "cell_type": "code",
      "execution_count": null,
      "metadata": {
        "colab": {
          "base_uri": "https://localhost:8080/"
        },
        "id": "Q8dyDGS1EYmD",
        "outputId": "1ee5581e-fc09-4cf9-9086-bb1ed001b3e5"
      },
      "outputs": [
        {
          "output_type": "stream",
          "name": "stdout",
          "text": [
            "Trial 180 Complete [00h 00m 07s]\n",
            "val_accuracy: 0.8666666746139526\n",
            "\n",
            "Best val_accuracy So Far: 0.8999999761581421\n",
            "Total elapsed time: 00h 09m 13s\n"
          ]
        }
      ],
      "source": [
        "tuner.search(X_train, y_train, epochs=10, validation_data=(X_test, y_test))"
      ]
    },
    {
      "cell_type": "markdown",
      "source": [
        "Parameters for the top 3 best neural network models"
      ],
      "metadata": {
        "id": "-s0fWIa71RuN"
      }
    },
    {
      "cell_type": "code",
      "execution_count": null,
      "metadata": {
        "colab": {
          "base_uri": "https://localhost:8080/"
        },
        "id": "t277usYVFqho",
        "outputId": "4d71ccd9-833b-4aa6-9d75-f0831389f591"
      },
      "outputs": [
        {
          "output_type": "stream",
          "name": "stdout",
          "text": [
            "{'activation': 'relu', 'first_units': 30, 'num_layers': 3, 'units_0': 50, 'units_1': 40, 'units_2': 35, 'tuner/epochs': 17, 'tuner/initial_epoch': 6, 'tuner/bracket': 2, 'tuner/round': 1, 'tuner/trial_id': '0060'}\n",
            "{'activation': 'relu', 'first_units': 25, 'num_layers': 3, 'units_0': 25, 'units_1': 35, 'units_2': 25, 'tuner/epochs': 17, 'tuner/initial_epoch': 6, 'tuner/bracket': 2, 'tuner/round': 1, 'tuner/trial_id': '0063'}\n",
            "{'activation': 'relu', 'first_units': 25, 'num_layers': 3, 'units_0': 25, 'units_1': 35, 'units_2': 25, 'tuner/epochs': 50, 'tuner/initial_epoch': 17, 'tuner/bracket': 2, 'tuner/round': 2, 'tuner/trial_id': '0071'}\n"
          ]
        }
      ],
      "source": [
        "top_hyper = tuner.get_best_hyperparameters(3)\n",
        "for param in top_hyper:\n",
        "    print(param.values)"
      ]
    },
    {
      "cell_type": "markdown",
      "source": [
        "Accuracies of the top 3 best neural network models"
      ],
      "metadata": {
        "id": "9fRTrWSq1MZ4"
      }
    },
    {
      "cell_type": "code",
      "execution_count": null,
      "metadata": {
        "colab": {
          "base_uri": "https://localhost:8080/"
        },
        "id": "KIWSfGdyFv8M",
        "outputId": "13ae9ef7-9d2d-4a59-8b67-045a6512a05a"
      },
      "outputs": [
        {
          "output_type": "stream",
          "name": "stdout",
          "text": [
            "2/2 - 0s - loss: 0.3778 - accuracy: 0.9000 - 264ms/epoch - 132ms/step\n",
            "Loss: 0.37784066796302795, Accuracy: 0.8999999761581421\n",
            "2/2 - 0s - loss: 0.3981 - accuracy: 0.9000 - 273ms/epoch - 137ms/step\n",
            "Loss: 0.39805153012275696, Accuracy: 0.8999999761581421\n",
            "2/2 - 0s - loss: 0.3817 - accuracy: 0.9000 - 255ms/epoch - 128ms/step\n",
            "Loss: 0.3817470371723175, Accuracy: 0.8999999761581421\n"
          ]
        }
      ],
      "source": [
        "top_models = tuner.get_best_models(3)\n",
        "for model in top_models:\n",
        "    model_loss, model_accuracy = model.evaluate(X_test, y_test, verbose=2)\n",
        "    print(f\"Loss: {model_loss}, Accuracy: {model_accuracy}\")"
      ]
    },
    {
      "cell_type": "code",
      "source": [
        "predictions = top_models[0].predict(X_test)\n",
        "predictions = [int(round(float(prediction), 0)) for prediction in predictions]"
      ],
      "metadata": {
        "colab": {
          "base_uri": "https://localhost:8080/"
        },
        "id": "Jj7H9RSB99kh",
        "outputId": "99894891-b143-44a3-e5b4-1756a3840e10"
      },
      "execution_count": null,
      "outputs": [
        {
          "output_type": "stream",
          "name": "stdout",
          "text": [
            "2/2 [==============================] - 0s 6ms/step\n"
          ]
        }
      ]
    },
    {
      "cell_type": "code",
      "source": [
        "confusion_matrix(y_test, predictions)"
      ],
      "metadata": {
        "colab": {
          "base_uri": "https://localhost:8080/"
        },
        "id": "s2XydKlH9-Pv",
        "outputId": "90703bea-f02a-40f8-a1cc-c19fa156c006"
      },
      "execution_count": null,
      "outputs": [
        {
          "output_type": "execute_result",
          "data": {
            "text/plain": [
              "array([[31,  1],\n",
              "       [ 5, 23]])"
            ]
          },
          "metadata": {},
          "execution_count": 35
        }
      ]
    },
    {
      "cell_type": "code",
      "source": [
        "print(classification_report(y_test, predictions, target_names=[\"Present\", \"Absent\"]))"
      ],
      "metadata": {
        "colab": {
          "base_uri": "https://localhost:8080/"
        },
        "id": "0YbQSE12-EZV",
        "outputId": "94341963-ff3a-4b7a-b8d9-76873b8f8533"
      },
      "execution_count": null,
      "outputs": [
        {
          "output_type": "stream",
          "name": "stdout",
          "text": [
            "              precision    recall  f1-score   support\n",
            "\n",
            "     Present       0.86      0.97      0.91        32\n",
            "      Absent       0.96      0.82      0.88        28\n",
            "\n",
            "    accuracy                           0.90        60\n",
            "   macro avg       0.91      0.90      0.90        60\n",
            "weighted avg       0.91      0.90      0.90        60\n",
            "\n"
          ]
        }
      ]
    },
    {
      "cell_type": "code",
      "execution_count": null,
      "metadata": {
        "id": "uhcit-JhFa_i"
      },
      "outputs": [],
      "source": [
        "top_models[0].save(\"HeartDisease.h5\")"
      ]
    },
    {
      "cell_type": "code",
      "execution_count": null,
      "metadata": {
        "colab": {
          "base_uri": "https://localhost:8080/"
        },
        "id": "H9Bn2lbH9FFP",
        "outputId": "8ae53d2e-2a61-474e-8e89-ae91217941b2"
      },
      "outputs": [
        {
          "output_type": "stream",
          "name": "stdout",
          "text": [
            "Model: \"sequential_1\"\n",
            "_________________________________________________________________\n",
            " Layer (type)                Output Shape              Param #   \n",
            "=================================================================\n",
            " dense_5 (Dense)             (None, 30)                420       \n",
            "                                                                 \n",
            " dense_6 (Dense)             (None, 50)                1550      \n",
            "                                                                 \n",
            " dense_7 (Dense)             (None, 40)                2040      \n",
            "                                                                 \n",
            " dense_8 (Dense)             (None, 35)                1435      \n",
            "                                                                 \n",
            " dense_9 (Dense)             (None, 1)                 36        \n",
            "                                                                 \n",
            "=================================================================\n",
            "Total params: 5,481\n",
            "Trainable params: 5,481\n",
            "Non-trainable params: 0\n",
            "_________________________________________________________________\n"
          ]
        }
      ],
      "source": [
        "# Define the model - deep neural net, i.e., the number of input features and hidden nodes for each layer.\n",
        "nn = tf.keras.models.Sequential()\n",
        "\n",
        "top_param = top_hyper[0]\n",
        "\n",
        "top_activation = top_param['activation']\n",
        "\n",
        "# First hidden layer\n",
        "nn.add(tf.keras.layers.Dense(units=top_param['first_units'], activation=\"relu\", input_dim=input_dim))\n",
        "\n",
        "# Add remaining hidden layers\n",
        "for i in range(0, top_param['num_layers']):\n",
        "  nn.add(tf.keras.layers.Dense(units=top_param[f'units_{i}'], activation=\"relu\"))\n",
        "\n",
        "\n",
        "# Output layer\n",
        "nn.add(tf.keras.layers.Dense(units=1, activation=\"sigmoid\"))\n",
        "\n",
        "# Check the structure of the model\n",
        "nn.summary()"
      ]
    },
    {
      "cell_type": "code",
      "execution_count": null,
      "metadata": {
        "colab": {
          "base_uri": "https://localhost:8080/"
        },
        "id": "858fg3--9g43",
        "outputId": "dc0183ff-76cf-490d-c626-5987ffd08fa3"
      },
      "outputs": [
        {
          "output_type": "stream",
          "name": "stdout",
          "text": [
            "Epoch 7/17\n",
            "10/10 [==============================] - 1s 4ms/step - loss: 0.6627 - accuracy: 0.6667\n",
            "Epoch 8/17\n",
            "10/10 [==============================] - 0s 2ms/step - loss: 0.5894 - accuracy: 0.7845\n",
            "Epoch 9/17\n",
            "10/10 [==============================] - 0s 2ms/step - loss: 0.5114 - accuracy: 0.8114\n",
            "Epoch 10/17\n",
            "10/10 [==============================] - 0s 2ms/step - loss: 0.4336 - accuracy: 0.8451\n",
            "Epoch 11/17\n",
            "10/10 [==============================] - 0s 2ms/step - loss: 0.3778 - accuracy: 0.8620\n",
            "Epoch 12/17\n",
            "10/10 [==============================] - 0s 2ms/step - loss: 0.3479 - accuracy: 0.8754\n",
            "Epoch 13/17\n",
            "10/10 [==============================] - 0s 2ms/step - loss: 0.3298 - accuracy: 0.8721\n",
            "Epoch 14/17\n",
            "10/10 [==============================] - 0s 2ms/step - loss: 0.3120 - accuracy: 0.8788\n",
            "Epoch 15/17\n",
            "10/10 [==============================] - 0s 2ms/step - loss: 0.2987 - accuracy: 0.8822\n",
            "Epoch 16/17\n",
            "10/10 [==============================] - 0s 3ms/step - loss: 0.2903 - accuracy: 0.8855\n",
            "Epoch 17/17\n",
            "10/10 [==============================] - 0s 2ms/step - loss: 0.2735 - accuracy: 0.8889\n"
          ]
        },
        {
          "output_type": "execute_result",
          "data": {
            "text/plain": [
              "<keras.callbacks.History at 0x7f80181b2770>"
            ]
          },
          "metadata": {},
          "execution_count": 39
        }
      ],
      "source": [
        "nn.compile(loss=\"binary_crossentropy\", optimizer=\"adam\", metrics=[\"accuracy\"])\n",
        "nn.fit(X_resampled, y_resampled, initial_epoch=top_param[\"tuner/initial_epoch\"], epochs=top_param['tuner/epochs'])"
      ]
    },
    {
      "cell_type": "code",
      "execution_count": null,
      "metadata": {
        "colab": {
          "base_uri": "https://localhost:8080/"
        },
        "id": "wRB8EYiCvFti",
        "outputId": "4e4b244c-457d-46ea-b0d0-5acb84e78188"
      },
      "outputs": [
        {
          "output_type": "stream",
          "name": "stdout",
          "text": [
            "2/2 [==============================] - 0s 5ms/step\n"
          ]
        }
      ],
      "source": [
        "predictions = nn.predict(X_test)\n",
        "predictions = [int(round(float(prediction), 0)) for prediction in predictions]"
      ]
    },
    {
      "cell_type": "code",
      "execution_count": null,
      "metadata": {
        "colab": {
          "base_uri": "https://localhost:8080/"
        },
        "id": "HyGKNWwsvDxV",
        "outputId": "c98ac0b3-f9f0-4904-da56-e2b798ec6118"
      },
      "outputs": [
        {
          "output_type": "execute_result",
          "data": {
            "text/plain": [
              "array([[31,  1],\n",
              "       [ 5, 23]])"
            ]
          },
          "metadata": {},
          "execution_count": 41
        }
      ],
      "source": [
        "confusion_matrix(y_test, predictions)"
      ]
    },
    {
      "cell_type": "code",
      "execution_count": null,
      "metadata": {
        "colab": {
          "base_uri": "https://localhost:8080/"
        },
        "id": "WKcTui1qvDYQ",
        "outputId": "002493f3-e31c-49e6-8357-94c002bae9e4"
      },
      "outputs": [
        {
          "output_type": "stream",
          "name": "stdout",
          "text": [
            "              precision    recall  f1-score   support\n",
            "\n",
            "     Present       0.86      0.97      0.91        32\n",
            "      Absent       0.96      0.82      0.88        28\n",
            "\n",
            "    accuracy                           0.90        60\n",
            "   macro avg       0.91      0.90      0.90        60\n",
            "weighted avg       0.91      0.90      0.90        60\n",
            "\n"
          ]
        }
      ],
      "source": [
        "print(classification_report(y_test, predictions, target_names=[\"Present\", \"Absent\"]))"
      ]
    },
    {
      "cell_type": "code",
      "execution_count": null,
      "metadata": {
        "id": "Awhsrzqd05KG"
      },
      "outputs": [],
      "source": [
        "# pickle.dump(nn, open(\"heart_model.sav\", 'wb'))\n",
        "nn.save(\"HeartDisease.h5\")"
      ]
    },
    {
      "cell_type": "code",
      "execution_count": null,
      "metadata": {
        "id": "8sJIWRxNv5JM"
      },
      "outputs": [],
      "source": [
        "import json\n",
        "with open('ConfusionMatrix.json', 'w') as file:\n",
        "  file.write(json.dumps(confusion_matrix(y_test, predictions).tolist()))"
      ]
    },
    {
      "cell_type": "code",
      "execution_count": null,
      "metadata": {
        "id": "jsbC6unCvsRV"
      },
      "outputs": [],
      "source": [
        "with open('ClassificationReport.json', 'w') as file:\n",
        "  file.write(json.dumps(classification_report(y_test, predictions, target_names=[\"Present\", \"Absent\"], output_dict=True)))"
      ]
    },
    {
      "cell_type": "code",
      "execution_count": null,
      "metadata": {
        "colab": {
          "base_uri": "https://localhost:8080/"
        },
        "id": "agF4avQA94rH",
        "outputId": "2c74574f-2f2b-49ad-d1e9-ff2d1f7ecafc"
      },
      "outputs": [
        {
          "output_type": "stream",
          "name": "stderr",
          "text": [
            "WARNING:tensorflow:5 out of the last 107 calls to <function Model.make_test_function.<locals>.test_function at 0x7f8010f67ac0> triggered tf.function retracing. Tracing is expensive and the excessive number of tracings could be due to (1) creating @tf.function repeatedly in a loop, (2) passing tensors with different shapes, (3) passing Python objects instead of tensors. For (1), please define your @tf.function outside of the loop. For (2), @tf.function has reduce_retracing=True option that can avoid unnecessary retracing. For (3), please refer to https://www.tensorflow.org/guide/function#controlling_retracing and https://www.tensorflow.org/api_docs/python/tf/function for  more details.\n"
          ]
        },
        {
          "output_type": "stream",
          "name": "stdout",
          "text": [
            "2/2 - 0s - loss: 0.2763 - accuracy: 0.9000 - 182ms/epoch - 91ms/step\n",
            "Loss: 0.2762989401817322, Accuracy: 0.8999999761581421\n"
          ]
        }
      ],
      "source": [
        "model_loss, model_accuracy = nn.evaluate(X_test, y_test,verbose=2)\n",
        "print(f\"Loss: {model_loss}, Accuracy: {model_accuracy}\")"
      ]
    },
    {
      "cell_type": "code",
      "execution_count": null,
      "metadata": {
        "id": "j0x6jPADMf6K",
        "colab": {
          "base_uri": "https://localhost:8080/"
        },
        "outputId": "900d79c6-0435-480b-c367-ba2bb8d6fa8b"
      },
      "outputs": [
        {
          "output_type": "stream",
          "name": "stdout",
          "text": [
            "Mounted at /content/drive\n"
          ]
        }
      ],
      "source": [
        "from google.colab import drive\n",
        "import csv\n",
        "\n",
        "aws_access_key_id = \"\"\n",
        "aws_secret_access_key = \"\"\n",
        "\n",
        "drive.mount('/content/drive')\n",
        "\n",
        "with open('/content/drive/MyDrive/UofT/Data-Analytics-Boot-Camp/Project04-Team01/Keys/collab_accessKeys.csv') as file:\n",
        "  csvreader = csv.reader(file)\n",
        "  for row in csvreader:\n",
        "    aws_access_key_id = row[0]\n",
        "    aws_secret_access_key=row[1]\n",
        "\n",
        "drive.flush_and_unmount()"
      ]
    },
    {
      "cell_type": "code",
      "execution_count": null,
      "metadata": {
        "id": "Uq_DqyStLo0T"
      },
      "outputs": [],
      "source": [
        "import boto3\n",
        "session = boto3.session.Session(aws_access_key_id=aws_access_key_id, aws_secret_access_key=aws_secret_access_key)\n",
        "s3 = session.resource('s3')\n",
        "my_bucket = s3.Bucket('protected-06062023')\n",
        "my_bucket.upload_file('HeartDisease.h5', 'HeartDisease.h5')\n",
        "my_bucket.upload_file('HeartScaler.sav', 'HeartScaler.sav')\n",
        "my_bucket.upload_file('heart_model.sav', 'heart_model.sav')\n",
        "my_bucket.upload_file('ConfusionMatrix.json', 'ConfusionMatrix.json')\n",
        "my_bucket.upload_file('ClassificationReport.json', 'ClassificationReport.json')"
      ]
    }
  ],
  "metadata": {
    "colab": {
      "provenance": []
    },
    "kernelspec": {
      "display_name": "Python 3",
      "name": "python3"
    },
    "language_info": {
      "name": "python"
    }
  },
  "nbformat": 4,
  "nbformat_minor": 0
}